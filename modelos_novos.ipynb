{
 "cells": [
  {
   "cell_type": "code",
   "execution_count": 2,
   "metadata": {},
   "outputs": [
    {
     "data": {
      "text/plain": [
       "'\\nTensor Meshes\\n=============\\n\\nHere we demonstrate various ways that models can be defined and mapped to\\ntensor meshes. Some things we consider are:\\n\\n    - Surface topography\\n    - Adding structures of various shape to the model\\n    - Parameterized models\\n    - Models with 2 or more physical properties\\n\\n\\n'"
      ]
     },
     "execution_count": 2,
     "metadata": {},
     "output_type": "execute_result"
    }
   ],
   "source": [
    "\"\"\"\n",
    "Tensor Meshes\n",
    "=============\n",
    "\n",
    "Here we demonstrate various ways that models can be defined and mapped to\n",
    "tensor meshes. Some things we consider are:\n",
    "\n",
    "    - Surface topography\n",
    "    - Adding structures of various shape to the model\n",
    "    - Parameterized models\n",
    "    - Models with 2 or more physical properties\n",
    "\n",
    "\n",
    "\"\"\""
   ]
  },
  {
   "cell_type": "code",
   "execution_count": 3,
   "metadata": {},
   "outputs": [],
   "source": [
    "#########################################################################\n",
    "# Import modules\n",
    "# --------------\n",
    "#\n",
    "\n",
    "from discretize import TensorMesh\n",
    "from discretize.utils import active_from_xyz\n",
    "from SimPEG.utils import mkvc, model_builder\n",
    "from SimPEG import maps\n",
    "import numpy as np\n",
    "import matplotlib.pyplot as plt\n",
    "\n",
    "# sphinx_gallery_thumbnail_number = 3"
   ]
  },
  {
   "cell_type": "code",
   "execution_count": 4,
   "metadata": {},
   "outputs": [],
   "source": [
    "#############################################\n",
    "# Defining the mesh\n",
    "# -----------------\n",
    "#\n",
    "# Here, we create the tensor mesh that will be used for all examples.\n",
    "#\n",
    "\n",
    "\n",
    "def make_example_mesh():\n",
    "    dh = 5.0\n",
    "    hx = [(dh, 5, -1.3), (dh, 20), (dh, 5, 1.3)]\n",
    "    hy = [(dh, 5, -1.3), (dh, 20), (dh, 5, 1.3)]\n",
    "    hz = [(dh, 5, -1.3), (dh, 20), (dh, 5, 1.3)]\n",
    "    mesh = TensorMesh([hx, hy, hz], \"CCC\")\n",
    "\n",
    "    return mesh"
   ]
  },
  {
   "cell_type": "code",
   "execution_count": 12,
   "metadata": {},
   "outputs": [
    {
     "data": {
      "text/plain": [
       "(27000,)"
      ]
     },
     "execution_count": 12,
     "metadata": {},
     "output_type": "execute_result"
    }
   ],
   "source": [
    "np.shape(mesh)"
   ]
  },
  {
   "cell_type": "code",
   "execution_count": 5,
   "metadata": {},
   "outputs": [
    {
     "data": {
      "image/png": "[encoded data removed]",
      "text/plain": [
       "<Figure size 500x500 with 1 Axes>"
      ]
     },
     "metadata": {},
     "output_type": "display_data"
    }
   ],
   "source": [
    "#############################################\n",
    "# Halfspace model with topography at z = 0\n",
    "# ----------------------------------------\n",
    "#\n",
    "# In this example we generate a half-space model. Since air cells remain\n",
    "# constant during geophysical inversion, the number of model values we define\n",
    "# should be equal to the number of cells lying below the surface. Here, we\n",
    "# define the model (*model* ) as well as the mapping (*model_map* ) that goes from\n",
    "# the model-space to the entire mesh.\n",
    "#\n",
    "\n",
    "mesh = make_example_mesh()\n",
    "\n",
    "background_value = 100.0\n",
    "dyke_value = 40.0\n",
    "block_value = 70.0\n",
    "\n",
    "# halfspace_value = 100.0\n",
    "\n",
    "# Define surface topography as an (N, 3) np.array. You could also load a file\n",
    "# containing the xyz points\n",
    "[xx, yy] = np.meshgrid(mesh.nodes_x, mesh.nodes_y)\n",
    "zz = -3 * np.exp((xx**2 + yy**2) / 75**2) + 40.0\n",
    "topo = np.c_[mkvc(xx), mkvc(yy), mkvc(zz)]\n",
    "\n",
    "# Find cells below topography and define mapping\n",
    "air_value = 0.0\n",
    "#ind_active = mesh.gridCC[:, 2] < 0.0\n",
    "ind_active = active_from_xyz(mesh, topo, \"N\")\n",
    "model_map = maps.InjectActiveCells(mesh, ind_active, air_value)\n",
    "\n",
    "# Define the model\n",
    "model = background_value * np.ones(ind_active.sum())\n",
    "ind_dyke = (mesh.gridCC[ind_active, 0] > 20.0) & (mesh.gridCC[ind_active, 0] < 40.0)\n",
    "model[ind_dyke] = dyke_value\n",
    "ind_block = (\n",
    "    (mesh.gridCC[ind_active, 0] > -40.0)\n",
    "    & (mesh.gridCC[ind_active, 0] < -10.0)\n",
    "    & (mesh.gridCC[ind_active, 1] > -30.0)\n",
    "    & (mesh.gridCC[ind_active, 1] < 5.0)\n",
    "    & (mesh.gridCC[ind_active, 2] > -40.0)\n",
    "    & (mesh.gridCC[ind_active, 2] < -10.0)\n",
    ")\n",
    "model[ind_block] = block_value\n",
    "\n",
    "#model = halfspace_value * np.ones(ind_active.sum())\n",
    "\n",
    "# We can plot a slice of the model at Y=-2.5\n",
    "fig = plt.figure(figsize=(5, 5))\n",
    "ax = fig.add_subplot(111)\n",
    "ind_slice = int(mesh.shape_cells[1] / 2)\n",
    "mesh.plot_slice(model_map * model, normal=\"Y\", ax=ax, ind=ind_slice, grid=True)\n",
    "ax.set_title(\"Model slice at y = {} m\".format(mesh.cell_centers_y[ind_slice]))\n",
    "plt.show()"
   ]
  },
  {
   "cell_type": "code",
   "execution_count": 6,
   "metadata": {},
   "outputs": [
    {
     "data": {
      "text/plain": [
       "(18072,)"
      ]
     },
     "execution_count": 6,
     "metadata": {},
     "output_type": "execute_result"
    }
   ],
   "source": [
    "np.shape(model)"
   ]
  },
  {
   "cell_type": "code",
   "execution_count": 7,
   "metadata": {},
   "outputs": [
    {
     "data": {
      "image/png": "[encoded data removed]",
      "text/plain": [
       "<Figure size 500x500 with 1 Axes>"
      ]
     },
     "metadata": {},
     "output_type": "display_data"
    }
   ],
   "source": [
    "#############################################\n",
    "# Topography, a block and a vertical dyke\n",
    "# ---------------------------------------\n",
    "#\n",
    "# In this example we create a model containing a block and a vertical dyke\n",
    "# that strikes along the y direction. The utility *active_from_xyz* is used\n",
    "# to find the cells which lie below a set of xyz points defining a surface.\n",
    "#\n",
    "\n",
    "mesh = make_example_mesh()\n",
    "\n",
    "background_value = 100.0\n",
    "dyke_value = 40.0\n",
    "block_value = 70.0\n",
    "\n",
    "# Define surface topography as an (N, 3) np.array. You could also load a file\n",
    "# containing the xyz points\n",
    "[xx, yy] = np.meshgrid(mesh.nodes_x, mesh.nodes_y)\n",
    "zz = -3 * np.exp((xx**2 + yy**2) / 75**2) + 40.0\n",
    "topo = np.c_[mkvc(xx), mkvc(yy), mkvc(zz)]\n",
    "\n",
    "# Find cells below topography and define mapping\n",
    "air_value = 0.0\n",
    "ind_active = active_from_xyz(mesh, topo, \"N\")\n",
    "model_map = maps.InjectActiveCells(mesh, ind_active, air_value)\n",
    "\n",
    "# Define the model on subsurface cells\n",
    "model = background_value * np.ones(ind_active.sum())\n",
    "ind_dyke = (mesh.gridCC[ind_active, 0] > 20.0) & (mesh.gridCC[ind_active, 0] < 40.0)\n",
    "model[ind_dyke] = dyke_value\n",
    "ind_block = (\n",
    "    (mesh.gridCC[ind_active, 0] > -40.0)\n",
    "    & (mesh.gridCC[ind_active, 0] < -10.0)\n",
    "    & (mesh.gridCC[ind_active, 1] > -30.0)\n",
    "    & (mesh.gridCC[ind_active, 1] < 30.0)\n",
    "    & (mesh.gridCC[ind_active, 2] > -40.0)\n",
    "    & (mesh.gridCC[ind_active, 2] < 0.0)\n",
    ")\n",
    "model[ind_block] = block_value\n",
    "\n",
    "# Plot\n",
    "fig = plt.figure(figsize=(5, 5))\n",
    "ax = fig.add_subplot(111)\n",
    "ind_slice = int(mesh.shape_cells[1] / 2)\n",
    "mesh.plot_slice(model_map * model, normal=\"Y\", ax=ax, ind=ind_slice, grid=True)\n",
    "ax.set_title(\"Model slice at y = {} m\".format(mesh.cell_centers_y[ind_slice]))\n",
    "plt.show()\n"
   ]
  },
  {
   "cell_type": "code",
   "execution_count": 8,
   "metadata": {},
   "outputs": [
    {
     "data": {
      "image/png": "[encoded data removed]",
      "text/plain": [
       "<Figure size 500x500 with 1 Axes>"
      ]
     },
     "metadata": {},
     "output_type": "display_data"
    }
   ],
   "source": [
    "#############################################\n",
    "# Combo Maps\n",
    "# ----------\n",
    "#\n",
    "# Here we demonstrate how combo maps can be used to create a single mapping\n",
    "# from the model to the mesh. In this case, our model consists of\n",
    "# log-conductivity values but we want to plot the resistivity. To accomplish\n",
    "# this we must take the exponent of our model values, then take the reciprocal,\n",
    "# then map from below surface cell to the mesh.\n",
    "#\n",
    "\n",
    "mesh = make_example_mesh()\n",
    "\n",
    "background_value = np.log(1.0 / 100.0)\n",
    "dyke_value = np.log(1.0 / 40.0)\n",
    "block_value = np.log(1.0 / 70.0)\n",
    "\n",
    "# Define surface topography\n",
    "[xx, yy] = np.meshgrid(mesh.nodes_x, mesh.nodes_y)\n",
    "zz = -3 * np.exp((xx**2 + yy**2) / 75**2) + 40.0\n",
    "topo = np.c_[mkvc(xx), mkvc(yy), mkvc(zz)]\n",
    "\n",
    "# Find cells below topography\n",
    "air_value = 0.0\n",
    "ind_active = active_from_xyz(mesh, topo, \"N\")\n",
    "active_map = maps.InjectActiveCells(mesh, ind_active, air_value)\n",
    "\n",
    "# Define the model on subsurface cells\n",
    "model = background_value * np.ones(ind_active.sum())\n",
    "ind_dyke = (mesh.gridCC[ind_active, 0] > 20.0) & (mesh.gridCC[ind_active, 0] < 40.0)\n",
    "model[ind_dyke] = dyke_value\n",
    "ind_block = (\n",
    "    (mesh.gridCC[ind_active, 0] > -40.0)\n",
    "    & (mesh.gridCC[ind_active, 0] < -10.0)\n",
    "    & (mesh.gridCC[ind_active, 1] > -30.0)\n",
    "    & (mesh.gridCC[ind_active, 1] < 30.0)\n",
    "    & (mesh.gridCC[ind_active, 2] > -40.0)\n",
    "    & (mesh.gridCC[ind_active, 2] < 0.0)\n",
    ")\n",
    "model[ind_block] = block_value\n",
    "\n",
    "# Define a single mapping from model to mesh\n",
    "exponential_map = maps.ExpMap()\n",
    "reciprocal_map = maps.ReciprocalMap()\n",
    "model_map = active_map * reciprocal_map * exponential_map\n",
    "\n",
    "# Plot\n",
    "fig = plt.figure(figsize=(5, 5))\n",
    "ax = fig.add_subplot(111)\n",
    "ind_slice = int(mesh.shape_cells[1] / 2)\n",
    "mesh.plot_slice(model_map * model, normal=\"Y\", ax=ax, ind=ind_slice, grid=True)\n",
    "ax.set_title(\"Model slice at y = {} m\".format(mesh.cell_centers_y[ind_slice]))\n",
    "plt.show()"
   ]
  },
  {
   "cell_type": "code",
   "execution_count": 13,
   "metadata": {},
   "outputs": [
    {
     "data": {
      "image/png": "[encoded data removed]",
      "text/plain": [
       "<Figure size 500x500 with 1 Axes>"
      ]
     },
     "metadata": {},
     "output_type": "display_data"
    }
   ],
   "source": [
    "#############################################\n",
    "# Models with arbitrary shapes\n",
    "# ----------------------------\n",
    "#\n",
    "# Here we show how model building utilities are used to make more complicated\n",
    "# structural models. The process of adding a new unit is twofold: 1) we must\n",
    "# find the indicies for mesh cells that lie within the new unit, 2) we\n",
    "# replace the prexisting physical property value for those cells.\n",
    "#\n",
    "\n",
    "mesh = make_example_mesh()\n",
    "\n",
    "background_value = 100.0\n",
    "dyke_value = 40.0\n",
    "sphere_value = 70.0\n",
    "\n",
    "# Define surface topography\n",
    "[xx, yy] = np.meshgrid(mesh.nodes_x, mesh.nodes_y)\n",
    "zz = -3 * np.exp((xx**2 + yy**2) / 75**2) + 40.0\n",
    "topo = np.c_[mkvc(xx), mkvc(yy), mkvc(zz)]\n",
    "\n",
    "# Set active cells and define unit values\n",
    "air_value = 0.0\n",
    "ind_active = active_from_xyz(mesh, topo, \"N\")\n",
    "model_map = maps.InjectActiveCells(mesh, ind_active, air_value)\n",
    "\n",
    "# Define model for cells under the surface topography\n",
    "model = background_value * np.ones(ind_active.sum())\n",
    "\n",
    "# Add a sphere\n",
    "ind_sphere = model_builder.get_indices_sphere(\n",
    "    np.r_[-25.0, 0.0, -15.0], 20.0, mesh.gridCC\n",
    ")\n",
    "ind_sphere = ind_sphere[ind_active]  # So it's same size and order as model\n",
    "model[ind_sphere] = sphere_value\n",
    "\n",
    "# Add dyke defined by a set of points\n",
    "xp = np.kron(np.ones((2)), [-10.0, 10.0, 45.0, 25.0])\n",
    "yp = np.kron([-1000.0, 1000.0], np.ones((4)))\n",
    "zp = np.kron(np.ones((2)), [-120.0, -120.0, 35.0, 35.0])\n",
    "xyz_pts = np.c_[mkvc(xp), mkvc(yp), mkvc(zp)]\n",
    "ind_polygon = model_builder.get_indices_polygon(mesh, xyz_pts)\n",
    "ind_polygon = ind_polygon[ind_active]  # So same size and order as model\n",
    "model[ind_polygon] = dyke_value\n",
    "\n",
    "# Plot\n",
    "fig = plt.figure(figsize=(5, 5))\n",
    "ax = fig.add_subplot(111)\n",
    "ind_slice = int(mesh.shape_cells[1] / 2)\n",
    "mesh.plot_slice(model_map * model, normal=\"Y\", ax=ax, ind=ind_slice, grid=True)\n",
    "ax.set_title(\"Model slice at y = {} m\".format(mesh.cell_centers_y[ind_slice]))\n",
    "plt.show()"
   ]
  },
  {
   "cell_type": "code",
   "execution_count": null,
   "metadata": {},
   "outputs": [],
   "source": [
    "np.shape(model)"
   ]
  },
  {
   "cell_type": "code",
   "execution_count": 10,
   "metadata": {},
   "outputs": [
    {
     "data": {
      "image/png": "[encoded data removed]",
      "text/plain": [
       "<Figure size 500x500 with 1 Axes>"
      ]
     },
     "metadata": {},
     "output_type": "display_data"
    }
   ],
   "source": [
    "#############################################\n",
    "# Parameterized block model\n",
    "# -------------------------\n",
    "#\n",
    "# Instead of defining a model value for each sub-surface cell, we can define\n",
    "# the model in terms of a small number of parameters. Here we parameterize the\n",
    "# model as a block in a half-space. We then create a mapping which projects\n",
    "# this model onto the mesh.\n",
    "#\n",
    "\n",
    "mesh = make_example_mesh()\n",
    "\n",
    "background_value = 100.0  # background value\n",
    "block_value = 40.0  # block value\n",
    "xc, yc, zc = -25.0, 0.0, -20.0  # center of block\n",
    "dx, dy, dz = 30.0, 40.0, 30.0  # dimensions in x,y,z\n",
    "\n",
    "# Define surface topography\n",
    "[xx, yy] = np.meshgrid(mesh.nodes_x, mesh.nodes_y)\n",
    "zz = -3 * np.exp((xx**2 + yy**2) / 75**2) + 40.0\n",
    "topo = np.c_[mkvc(xx), mkvc(yy), mkvc(zz)]\n",
    "\n",
    "# Set active cells and define unit values\n",
    "air_value = 0.0\n",
    "ind_active = active_from_xyz(mesh, topo, \"N\")\n",
    "active_map = maps.InjectActiveCells(mesh, ind_active, air_value)\n",
    "\n",
    "# Define the model on subsurface cells\n",
    "model = np.r_[background_value, block_value, xc, dx, yc, dy, zc, dz]\n",
    "parametric_map = maps.ParametricBlock(mesh, indActive=ind_active, epsilon=1e-10, p=5.0)\n",
    "\n",
    "# Define a single mapping from model to mesh\n",
    "model_map = active_map * parametric_map\n",
    "\n",
    "# Plot\n",
    "fig = plt.figure(figsize=(5, 5))\n",
    "ax = fig.add_subplot(111)\n",
    "ind_slice = int(mesh.shape_cells[1] / 2)\n",
    "mesh.plot_slice(model_map * model, normal=\"Y\", ax=ax, ind=ind_slice, grid=True)\n",
    "ax.set_title(\"Model slice at y = {} m\".format(mesh.cell_centers_y[ind_slice]))\n",
    "plt.show()"
   ]
  },
  {
   "cell_type": "code",
   "execution_count": 11,
   "metadata": {},
   "outputs": [
    {
     "data": {
      "image/png": "[encoded data removed]",
      "text/plain": [
       "<Figure size 500x500 with 1 Axes>"
      ]
     },
     "metadata": {},
     "output_type": "display_data"
    }
   ],
   "source": [
    "#############################################\n",
    "# Using Wire Maps\n",
    "# ---------------\n",
    "'''\n",
    "\n",
    "Wire maps are needed when the model is comprised of two or more parameter\n",
    "types (e.g. conductivity and magnetic permeability). Because the model\n",
    "vector contains all values for all parameter types, we need to use \"wires\"\n",
    "to extract the values for a particular parameter type.\n",
    "\n",
    "Here we will define a model consisting of log-conductivity values and\n",
    "magnetic permeability values. We wish to plot the conductivity and\n",
    "permeability on the mesh. Wires are used to keep track of the mapping\n",
    "between the model vector and a particular physical property type.\n",
    "\n",
    "'''\n",
    "\n",
    "\n",
    "mesh = make_example_mesh()\n",
    "\n",
    "background_sigma = np.log(100.0)\n",
    "sphere_sigma = np.log(70.0)\n",
    "dyke_sigma = np.log(40.0)\n",
    "background_myu = 1.0\n",
    "sphere_mu = 1.25\n",
    "\n",
    "# Define surface topography\n",
    "[xx, yy] = np.meshgrid(mesh.nodes_x, mesh.nodes_y)\n",
    "zz = -3 * np.exp((xx**2 + yy**2) / 75**2) + 40.0\n",
    "topo = np.c_[mkvc(xx), mkvc(yy), mkvc(zz)]\n",
    "\n",
    "# Set active cells\n",
    "air_value = 0.0\n",
    "ind_active = active_from_xyz(mesh, topo, \"N\")\n",
    "active_map = maps.InjectActiveCells(mesh, ind_active, air_value)\n",
    "\n",
    "# Define model for cells under the surface topography\n",
    "N = int(ind_active.sum())\n",
    "model = np.kron(np.ones((N, 1)), np.c_[background_sigma, background_myu])\n",
    "\n",
    "# Add a conductive and permeable sphere\n",
    "ind_sphere = model_builder.get_indices_sphere(\n",
    "    np.r_[-25.0, 0.0, -15.0], 20.0, mesh.gridCC\n",
    ")\n",
    "ind_sphere = ind_sphere[ind_active]  # So same size and order as model\n",
    "model[ind_sphere, :] = np.c_[sphere_sigma, sphere_mu]\n",
    "\n",
    "# Add a conductive and non-permeable dyke\n",
    "xp = np.kron(np.ones((2)), [-10.0, 10.0, 45.0, 25.0])\n",
    "yp = np.kron([-1000.0, 1000.0], np.ones((4)))\n",
    "zp = np.kron(np.ones((2)), [-120.0, -120.0, 35.0, 35.0])\n",
    "xyz_pts = np.c_[mkvc(xp), mkvc(yp), mkvc(zp)]\n",
    "ind_polygon = model_builder.get_indices_polygon(mesh, xyz_pts)\n",
    "ind_polygon = ind_polygon[ind_active]  # So same size and order as model\n",
    "model[ind_polygon, 0] = dyke_sigma\n",
    "\n",
    "# Create model vector and wires\n",
    "model = mkvc(model)\n",
    "wire_map = maps.Wires((\"log_sigma\", N), (\"mu\", N))\n",
    "\n",
    "# Use combo maps to map from model to mesh\n",
    "sigma_map = active_map * maps.ExpMap() * wire_map.log_sigma\n",
    "mu_map = active_map * wire_map.mu\n",
    "\n",
    "# Plot\n",
    "fig = plt.figure(figsize=(5, 5))\n",
    "ax = fig.add_subplot(111)\n",
    "ind_slice = int(mesh.shape_cells[1] / 2)\n",
    "mesh.plot_slice(sigma_map * model, normal=\"Y\", ax=ax, ind=ind_slice, grid=True)\n",
    "ax.set_title(\"Model slice at y = {} m\".format(mesh.cell_centers_y[ind_slice]))\n",
    "plt.show()"
   ]
  },
  {
   "cell_type": "code",
   "execution_count": null,
   "metadata": {},
   "outputs": [],
   "source": []
  },
  {
   "cell_type": "code",
   "execution_count": null,
   "metadata": {},
   "outputs": [],
   "source": []
  },
  {
   "cell_type": "code",
   "execution_count": null,
   "metadata": {},
   "outputs": [],
   "source": []
  },
  {
   "cell_type": "code",
   "execution_count": null,
   "metadata": {},
   "outputs": [],
   "source": []
  },
  {
   "cell_type": "code",
   "execution_count": null,
   "metadata": {},
   "outputs": [],
   "source": []
  },
  {
   "cell_type": "code",
   "execution_count": null,
   "metadata": {},
   "outputs": [],
   "source": []
  },
  {
   "cell_type": "code",
   "execution_count": null,
   "metadata": {},
   "outputs": [],
   "source": []
  },
  {
   "cell_type": "code",
   "execution_count": null,
   "metadata": {},
   "outputs": [],
   "source": []
  },
  {
   "cell_type": "code",
   "execution_count": null,
   "metadata": {},
   "outputs": [],
   "source": []
  },
  {
   "cell_type": "code",
   "execution_count": null,
   "metadata": {},
   "outputs": [],
   "source": []
  },
  {
   "cell_type": "code",
   "execution_count": null,
   "metadata": {},
   "outputs": [],
   "source": []
  },
  {
   "cell_type": "code",
   "execution_count": null,
   "metadata": {},
   "outputs": [],
   "source": []
  },
  {
   "cell_type": "code",
   "execution_count": null,
   "metadata": {},
   "outputs": [],
   "source": []
  },
  {
   "cell_type": "code",
   "execution_count": null,
   "metadata": {},
   "outputs": [],
   "source": []
  },
  {
   "cell_type": "code",
   "execution_count": null,
   "metadata": {},
   "outputs": [],
   "source": []
  },
  {
   "cell_type": "code",
   "execution_count": null,
   "metadata": {},
   "outputs": [],
   "source": []
  },
  {
   "cell_type": "code",
   "execution_count": null,
   "metadata": {},
   "outputs": [],
   "source": []
  },
  {
   "cell_type": "code",
   "execution_count": null,
   "metadata": {},
   "outputs": [],
   "source": []
  },
  {
   "cell_type": "code",
   "execution_count": null,
   "metadata": {},
   "outputs": [],
   "source": []
  },
  {
   "cell_type": "code",
   "execution_count": null,
   "metadata": {},
   "outputs": [],
   "source": []
  }
 ],
 "metadata": {
  "kernelspec": {
   "display_name": "base",
   "language": "python",
   "name": "python3"
  },
  "language_info": {
   "codemirror_mode": {
    "name": "ipython",
    "version": 3
   },
   "file_extension": ".py",
   "mimetype": "text/x-python",
   "name": "python",
   "nbconvert_exporter": "python",
   "pygments_lexer": "ipython3",
   "version": "3.11.7"
  }
 },
 "nbformat": 4,
 "nbformat_minor": 2
}
